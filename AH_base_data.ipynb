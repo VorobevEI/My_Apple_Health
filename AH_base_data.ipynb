{
 "cells": [
  {
   "cell_type": "code",
   "execution_count": 1,
   "metadata": {},
   "outputs": [],
   "source": [
    "from xml.etree import ElementTree\n",
    "import pandas as pd\n",
    "import datetime"
   ]
  },
  {
   "cell_type": "code",
   "execution_count": 2,
   "metadata": {},
   "outputs": [],
   "source": [
    "tree = ElementTree.parse('C:/Users/9/Downloads/экспорт/apple_health_export/экспорт.xml')\n",
    "root = tree.getroot()\n",
    "records = root.findall('Record')"
   ]
  },
  {
   "cell_type": "code",
   "execution_count": 3,
   "metadata": {},
   "outputs": [],
   "source": [
    "records_dict = {'type': [],\n",
    "                'unit': [],\n",
    "                'creationDate': [],\n",
    "                'startDate': [],\n",
    "                'endDate': [],\n",
    "                'value': []\n",
    "               }"
   ]
  },
  {
   "cell_type": "code",
   "execution_count": 4,
   "metadata": {},
   "outputs": [],
   "source": [
    "for record in records:\n",
    "    for attribute in records_dict.keys():\n",
    "        attribute_value = record.get(attribute)\n",
    "        records_dict[attribute].append(attribute_value)"
   ]
  },
  {
   "cell_type": "code",
   "execution_count": 5,
   "metadata": {},
   "outputs": [],
   "source": [
    "types_dict = {\n",
    "    'HKCategoryTypeIdentifierMindfulSession': 'Mindful Session',\n",
    "    'HKQuantityTypeIdentifierDistanceCycling': 'Cycling Distance',\n",
    "    'HKQuantityTypeIdentifierDistanceSwimming': 'Swimming Distance',\n",
    "    'HKQuantityTypeIdentifierDistanceWalkingRunning': 'Walking + Running Distance',\n",
    "    'HKQuantityTypeIdentifierFlightsClimbed': 'Flights Climbed',\n",
    "    'HKQuantityTypeIdentifierHeartRate': 'Heart Rate',\n",
    "    'HKQuantityTypeIdentifierRestingHeartRate': 'Resting Heart Rate',\n",
    "    'HKQuantityTypeIdentifierStepCount': 'Steps',\n",
    "    'HKQuantityTypeIdentifierActiveEnergyBurned': 'Active Calories',\n",
    "    'HKQuantityTypeIdentifierBasalEnergyBurned': 'Resting Calories',\n",
    "    'HKQuantityTypeIdentifierWalkingHeartRateAverage': 'Walking Heart Rate Average'\n",
    "}"
   ]
  },
  {
   "cell_type": "code",
   "execution_count": 6,
   "metadata": {},
   "outputs": [],
   "source": [
    "def td_to_m(td):\n",
    "    seconds = td.seconds + td.days * 24 * 60 * 60\n",
    "    return seconds // 60"
   ]
  },
  {
   "cell_type": "code",
   "execution_count": 7,
   "metadata": {},
   "outputs": [],
   "source": [
    "df = pd.DataFrame(records_dict)\n",
    "df.columns = ['type', 'unit', 'date', 'start', 'end', 'value']\n",
    "df = df[df['type'].isin(types_dict.keys())]\n",
    "df['value'] = df['value'].astype(float)\n",
    "df['date'] = df['date'].astype('datetime64')\n",
    "df['date'] = df['date'].dt.date\n",
    "df['start'] = df['start'].astype('datetime64')\n",
    "df['end'] = df['end'].astype('datetime64')\n",
    "df['unit'] = df['unit'].astype(str)"
   ]
  },
  {
   "cell_type": "code",
   "execution_count": 10,
   "metadata": {},
   "outputs": [],
   "source": [
    "df=df.reset_index(drop=True)"
   ]
  },
  {
   "cell_type": "code",
   "execution_count": 11,
   "metadata": {},
   "outputs": [
    {
     "data": {
      "text/html": [
       "<div>\n",
       "<style scoped>\n",
       "    .dataframe tbody tr th:only-of-type {\n",
       "        vertical-align: middle;\n",
       "    }\n",
       "\n",
       "    .dataframe tbody tr th {\n",
       "        vertical-align: top;\n",
       "    }\n",
       "\n",
       "    .dataframe thead th {\n",
       "        text-align: right;\n",
       "    }\n",
       "</style>\n",
       "<table border=\"1\" class=\"dataframe\">\n",
       "  <thead>\n",
       "    <tr style=\"text-align: right;\">\n",
       "      <th></th>\n",
       "      <th>type</th>\n",
       "      <th>unit</th>\n",
       "      <th>date</th>\n",
       "      <th>start</th>\n",
       "      <th>end</th>\n",
       "      <th>value</th>\n",
       "    </tr>\n",
       "  </thead>\n",
       "  <tbody>\n",
       "    <tr>\n",
       "      <th>0</th>\n",
       "      <td>HKQuantityTypeIdentifierHeartRate</td>\n",
       "      <td>count/min</td>\n",
       "      <td>2018-12-09</td>\n",
       "      <td>2018-12-09 12:04:56</td>\n",
       "      <td>2018-12-09 12:04:56</td>\n",
       "      <td>58.0</td>\n",
       "    </tr>\n",
       "    <tr>\n",
       "      <th>1</th>\n",
       "      <td>HKQuantityTypeIdentifierHeartRate</td>\n",
       "      <td>count/min</td>\n",
       "      <td>2018-12-09</td>\n",
       "      <td>2018-12-09 12:08:20</td>\n",
       "      <td>2018-12-09 12:08:20</td>\n",
       "      <td>64.0</td>\n",
       "    </tr>\n",
       "    <tr>\n",
       "      <th>2</th>\n",
       "      <td>HKQuantityTypeIdentifierHeartRate</td>\n",
       "      <td>count/min</td>\n",
       "      <td>2018-12-09</td>\n",
       "      <td>2018-12-09 12:13:57</td>\n",
       "      <td>2018-12-09 12:13:57</td>\n",
       "      <td>65.0</td>\n",
       "    </tr>\n",
       "    <tr>\n",
       "      <th>3</th>\n",
       "      <td>HKQuantityTypeIdentifierHeartRate</td>\n",
       "      <td>count/min</td>\n",
       "      <td>2018-12-09</td>\n",
       "      <td>2018-12-09 12:14:02</td>\n",
       "      <td>2018-12-09 12:14:02</td>\n",
       "      <td>67.0</td>\n",
       "    </tr>\n",
       "    <tr>\n",
       "      <th>4</th>\n",
       "      <td>HKQuantityTypeIdentifierHeartRate</td>\n",
       "      <td>count/min</td>\n",
       "      <td>2018-12-09</td>\n",
       "      <td>2018-12-09 12:14:07</td>\n",
       "      <td>2018-12-09 12:14:07</td>\n",
       "      <td>67.0</td>\n",
       "    </tr>\n",
       "  </tbody>\n",
       "</table>\n",
       "</div>"
      ],
      "text/plain": [
       "                                type       unit        date  \\\n",
       "0  HKQuantityTypeIdentifierHeartRate  count/min  2018-12-09   \n",
       "1  HKQuantityTypeIdentifierHeartRate  count/min  2018-12-09   \n",
       "2  HKQuantityTypeIdentifierHeartRate  count/min  2018-12-09   \n",
       "3  HKQuantityTypeIdentifierHeartRate  count/min  2018-12-09   \n",
       "4  HKQuantityTypeIdentifierHeartRate  count/min  2018-12-09   \n",
       "\n",
       "                start                 end  value  \n",
       "0 2018-12-09 12:04:56 2018-12-09 12:04:56   58.0  \n",
       "1 2018-12-09 12:08:20 2018-12-09 12:08:20   64.0  \n",
       "2 2018-12-09 12:13:57 2018-12-09 12:13:57   65.0  \n",
       "3 2018-12-09 12:14:02 2018-12-09 12:14:02   67.0  \n",
       "4 2018-12-09 12:14:07 2018-12-09 12:14:07   67.0  "
      ]
     },
     "execution_count": 11,
     "metadata": {},
     "output_type": "execute_result"
    }
   ],
   "source": [
    "df.head()"
   ]
  },
  {
   "cell_type": "code",
   "execution_count": 12,
   "metadata": {},
   "outputs": [
    {
     "data": {
      "text/plain": [
       "(1577214, 6)"
      ]
     },
     "execution_count": 12,
     "metadata": {},
     "output_type": "execute_result"
    }
   ],
   "source": [
    "df.shape"
   ]
  }
 ],
 "metadata": {
  "kernelspec": {
   "display_name": "Python 3",
   "language": "python",
   "name": "python3"
  },
  "language_info": {
   "codemirror_mode": {
    "name": "ipython",
    "version": 3
   },
   "file_extension": ".py",
   "mimetype": "text/x-python",
   "name": "python",
   "nbconvert_exporter": "python",
   "pygments_lexer": "ipython3",
   "version": "3.8.3"
  }
 },
 "nbformat": 4,
 "nbformat_minor": 4
}
