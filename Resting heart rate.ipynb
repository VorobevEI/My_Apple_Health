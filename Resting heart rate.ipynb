{
 "cells": [
  {
   "cell_type": "code",
   "execution_count": 1,
   "metadata": {},
   "outputs": [],
   "source": [
    "from xml.etree import ElementTree\n",
    "import pandas as pd\n",
    "import datetime"
   ]
  },
  {
   "cell_type": "code",
   "execution_count": 2,
   "metadata": {},
   "outputs": [],
   "source": [
    "tree = ElementTree.parse('C:/Users/9/Downloads/экспорт/apple_health_export/экспорт.xml')\n",
    "root = tree.getroot()\n",
    "records = root.findall('Record')"
   ]
  },
  {
   "cell_type": "code",
   "execution_count": 3,
   "metadata": {},
   "outputs": [],
   "source": [
    "records_dict = {'type': [],\n",
    "                'unit': [],\n",
    "                'creationDate': [],\n",
    "                'startDate': [],\n",
    "                'endDate': [],\n",
    "                'value': []\n",
    "               }"
   ]
  },
  {
   "cell_type": "code",
   "execution_count": 4,
   "metadata": {},
   "outputs": [],
   "source": [
    "for record in records:\n",
    "    for attribute in records_dict.keys():\n",
    "        attribute_value = record.get(attribute)\n",
    "        records_dict[attribute].append(attribute_value)"
   ]
  },
  {
   "cell_type": "code",
   "execution_count": 5,
   "metadata": {},
   "outputs": [],
   "source": [
    "types_dict = {\n",
    "    'HKCategoryTypeIdentifierMindfulSession': 'Mindful Session',\n",
    "    'HKQuantityTypeIdentifierDistanceCycling': 'Cycling Distance',\n",
    "    'HKQuantityTypeIdentifierDistanceSwimming': 'Swimming Distance',\n",
    "    'HKQuantityTypeIdentifierDistanceWalkingRunning': 'Walking + Running Distance',\n",
    "    'HKQuantityTypeIdentifierFlightsClimbed': 'Flights Climbed',\n",
    "    'HKQuantityTypeIdentifierHeartRate': 'Heart Rate',\n",
    "    'HKQuantityTypeIdentifierRestingHeartRate': 'Resting Heart Rate',\n",
    "    'HKQuantityTypeIdentifierStepCount': 'Steps',\n",
    "    'HKQuantityTypeIdentifierActiveEnergyBurned': 'Active Calories',\n",
    "    'HKQuantityTypeIdentifierBasalEnergyBurned': 'Resting Calories',\n",
    "    'HKQuantityTypeIdentifierWalkingHeartRateAverage': 'Walking Heart Rate Average'\n",
    "}"
   ]
  },
  {
   "cell_type": "code",
   "execution_count": 6,
   "metadata": {},
   "outputs": [],
   "source": [
    "def td_to_m(td):\n",
    "    seconds = td.seconds + td.days * 24 * 60 * 60\n",
    "    return seconds // 60"
   ]
  },
  {
   "cell_type": "code",
   "execution_count": 7,
   "metadata": {},
   "outputs": [],
   "source": [
    "df = pd.DataFrame(records_dict)\n",
    "df.columns = ['type', 'unit', 'date', 'start', 'end', 'value']\n",
    "df = df[df['type'].isin(types_dict.keys())]\n",
    "df['value'] = df['value'].astype(float)\n",
    "df['date'] = df['date'].astype('datetime64')\n",
    "df['date'] = df['date'].dt.date\n",
    "df['start'] = df['start'].astype('datetime64')\n",
    "df['end'] = df['end'].astype('datetime64')\n",
    "df['unit'] = df['unit'].astype(str)"
   ]
  },
  {
   "cell_type": "code",
   "execution_count": 8,
   "metadata": {},
   "outputs": [],
   "source": [
    "df_1 = df[df['unit'] == 'count/min']\n",
    "df_1 = df_1.groupby(by=['date', 'type', 'unit'], as_index=False).agg({'start':'min',\n",
    "                                                                      'end':'max',\n",
    "                                                                      'value':'mean'})"
   ]
  },
  {
   "cell_type": "code",
   "execution_count": 9,
   "metadata": {},
   "outputs": [
    {
     "name": "stderr",
     "output_type": "stream",
     "text": [
      "<ipython-input-9-9aefcd8c8fa8>:2: SettingWithCopyWarning: \n",
      "A value is trying to be set on a copy of a slice from a DataFrame.\n",
      "Try using .loc[row_indexer,col_indexer] = value instead\n",
      "\n",
      "See the caveats in the documentation: https://pandas.pydata.org/pandas-docs/stable/user_guide/indexing.html#returning-a-view-versus-a-copy\n",
      "  df_2['value'] = df_2['end'] - df_2['start']\n",
      "<ipython-input-9-9aefcd8c8fa8>:3: SettingWithCopyWarning: \n",
      "A value is trying to be set on a copy of a slice from a DataFrame.\n",
      "Try using .loc[row_indexer,col_indexer] = value instead\n",
      "\n",
      "See the caveats in the documentation: https://pandas.pydata.org/pandas-docs/stable/user_guide/indexing.html#returning-a-view-versus-a-copy\n",
      "  df_2['value'] = df_2['value'].map(td_to_m)\n"
     ]
    }
   ],
   "source": [
    "df_2 = df[df['type'] == 'HKCategoryTypeIdentifierMindfulSession']\n",
    "df_2['value'] = df_2['end'] - df_2['start']\n",
    "df_2['value'] = df_2['value'].map(td_to_m)\n",
    "df_2 = df_2.groupby(by=['date', 'type', 'unit'], as_index=False).agg({'start':'min',\n",
    "                                                                     'end':'max',\n",
    "                                                                     'value':'sum'})"
   ]
  },
  {
   "cell_type": "code",
   "execution_count": 10,
   "metadata": {},
   "outputs": [],
   "source": [
    "df_3 = df[(df['unit'] != 'count/min') & (df['type'] != 'HKCategoryTypeIdentifierMindfulSession')]\n",
    "df_3 = df_3.groupby(by=['date', 'type', 'unit'], as_index=False).agg({'start':'min',\n",
    "                                                                      'end':'max',\n",
    "                                                                      'value':'sum'})"
   ]
  },
  {
   "cell_type": "code",
   "execution_count": 11,
   "metadata": {},
   "outputs": [],
   "source": [
    "df = pd.concat([df_1, df_2, df_3])"
   ]
  },
  {
   "cell_type": "code",
   "execution_count": 12,
   "metadata": {},
   "outputs": [],
   "source": [
    "df['date'] = df['date'].astype(str)\n",
    "df['type'] = df['type'].apply(lambda x: types_dict[x])\n",
    "dates = df['date'].unique()"
   ]
  },
  {
   "cell_type": "code",
   "execution_count": 13,
   "metadata": {},
   "outputs": [],
   "source": [
    "result = {\n",
    "    'date': [],\n",
    "    'Steps': [],\n",
    "    'Walking + Running Distance': [],\n",
    "    'Swimming Distance': [],\n",
    "    'Cycling Distance': [],\n",
    "    'Resting Calories': [],\n",
    "    'Active Calories': [],\n",
    "    'Flights Climbed': [],\n",
    "    'Heart Rate': [],\n",
    "    'Resting Heart Rate': [],\n",
    "    'Walking Heart Rate Average': [],\n",
    "    'Mindful Session': []\n",
    "}"
   ]
  },
  {
   "cell_type": "code",
   "execution_count": 14,
   "metadata": {},
   "outputs": [],
   "source": [
    "for date in dates:\n",
    "    part = df[df['date'] == date]\n",
    "    result['date'].append(date)\n",
    "    for key in result.keys():\n",
    "        if key == 'date':\n",
    "            continue\n",
    "        else:\n",
    "            field = 'value'\n",
    "        try:\n",
    "            result[key].append(part[part['type'] == key][field].values[0])\n",
    "        except IndexError:\n",
    "            result[key].append(None)"
   ]
  },
  {
   "cell_type": "code",
   "execution_count": 15,
   "metadata": {},
   "outputs": [],
   "source": [
    "result_df = pd.DataFrame(result)"
   ]
  },
  {
   "cell_type": "code",
   "execution_count": 16,
   "metadata": {},
   "outputs": [],
   "source": [
    "result_df = result_df.round(2)"
   ]
  },
  {
   "cell_type": "code",
   "execution_count": 17,
   "metadata": {},
   "outputs": [],
   "source": [
    "result_df = result_df.sort_values(by='date')"
   ]
  },
  {
   "cell_type": "code",
   "execution_count": 18,
   "metadata": {},
   "outputs": [],
   "source": [
    "data = result_df"
   ]
  },
  {
   "cell_type": "code",
   "execution_count": 19,
   "metadata": {},
   "outputs": [],
   "source": [
    "heart = data.drop(['Resting Calories', 'Steps', 'Active Calories', 'Flights Climbed', 'Walking + Running Distance', 'Swimming Distance', 'Cycling Distance', 'Mindful Session'], axis = 1)"
   ]
  },
  {
   "cell_type": "code",
   "execution_count": 20,
   "metadata": {},
   "outputs": [
    {
     "data": {
      "text/html": [
       "<div>\n",
       "<style scoped>\n",
       "    .dataframe tbody tr th:only-of-type {\n",
       "        vertical-align: middle;\n",
       "    }\n",
       "\n",
       "    .dataframe tbody tr th {\n",
       "        vertical-align: top;\n",
       "    }\n",
       "\n",
       "    .dataframe thead th {\n",
       "        text-align: right;\n",
       "    }\n",
       "</style>\n",
       "<table border=\"1\" class=\"dataframe\">\n",
       "  <thead>\n",
       "    <tr style=\"text-align: right;\">\n",
       "      <th></th>\n",
       "      <th>date</th>\n",
       "      <th>Heart Rate</th>\n",
       "      <th>Resting Heart Rate</th>\n",
       "      <th>Walking Heart Rate Average</th>\n",
       "    </tr>\n",
       "  </thead>\n",
       "  <tbody>\n",
       "    <tr>\n",
       "      <th>839</th>\n",
       "      <td>2018-04-21</td>\n",
       "      <td>NaN</td>\n",
       "      <td>NaN</td>\n",
       "      <td>NaN</td>\n",
       "    </tr>\n",
       "    <tr>\n",
       "      <th>840</th>\n",
       "      <td>2018-04-22</td>\n",
       "      <td>NaN</td>\n",
       "      <td>NaN</td>\n",
       "      <td>NaN</td>\n",
       "    </tr>\n",
       "    <tr>\n",
       "      <th>841</th>\n",
       "      <td>2018-04-23</td>\n",
       "      <td>NaN</td>\n",
       "      <td>NaN</td>\n",
       "      <td>NaN</td>\n",
       "    </tr>\n",
       "    <tr>\n",
       "      <th>842</th>\n",
       "      <td>2018-04-24</td>\n",
       "      <td>NaN</td>\n",
       "      <td>NaN</td>\n",
       "      <td>NaN</td>\n",
       "    </tr>\n",
       "    <tr>\n",
       "      <th>843</th>\n",
       "      <td>2018-04-25</td>\n",
       "      <td>NaN</td>\n",
       "      <td>NaN</td>\n",
       "      <td>NaN</td>\n",
       "    </tr>\n",
       "    <tr>\n",
       "      <th>844</th>\n",
       "      <td>2018-04-26</td>\n",
       "      <td>NaN</td>\n",
       "      <td>NaN</td>\n",
       "      <td>NaN</td>\n",
       "    </tr>\n",
       "    <tr>\n",
       "      <th>845</th>\n",
       "      <td>2018-04-27</td>\n",
       "      <td>NaN</td>\n",
       "      <td>NaN</td>\n",
       "      <td>NaN</td>\n",
       "    </tr>\n",
       "    <tr>\n",
       "      <th>846</th>\n",
       "      <td>2018-04-28</td>\n",
       "      <td>NaN</td>\n",
       "      <td>NaN</td>\n",
       "      <td>NaN</td>\n",
       "    </tr>\n",
       "    <tr>\n",
       "      <th>847</th>\n",
       "      <td>2018-04-29</td>\n",
       "      <td>NaN</td>\n",
       "      <td>NaN</td>\n",
       "      <td>NaN</td>\n",
       "    </tr>\n",
       "    <tr>\n",
       "      <th>848</th>\n",
       "      <td>2018-04-30</td>\n",
       "      <td>NaN</td>\n",
       "      <td>NaN</td>\n",
       "      <td>NaN</td>\n",
       "    </tr>\n",
       "  </tbody>\n",
       "</table>\n",
       "</div>"
      ],
      "text/plain": [
       "           date  Heart Rate  Resting Heart Rate  Walking Heart Rate Average\n",
       "839  2018-04-21         NaN                 NaN                         NaN\n",
       "840  2018-04-22         NaN                 NaN                         NaN\n",
       "841  2018-04-23         NaN                 NaN                         NaN\n",
       "842  2018-04-24         NaN                 NaN                         NaN\n",
       "843  2018-04-25         NaN                 NaN                         NaN\n",
       "844  2018-04-26         NaN                 NaN                         NaN\n",
       "845  2018-04-27         NaN                 NaN                         NaN\n",
       "846  2018-04-28         NaN                 NaN                         NaN\n",
       "847  2018-04-29         NaN                 NaN                         NaN\n",
       "848  2018-04-30         NaN                 NaN                         NaN"
      ]
     },
     "execution_count": 20,
     "metadata": {},
     "output_type": "execute_result"
    }
   ],
   "source": [
    "heart.head(10)"
   ]
  },
  {
   "cell_type": "code",
   "execution_count": 21,
   "metadata": {},
   "outputs": [],
   "source": [
    "heart=heart.reset_index(drop=True)"
   ]
  },
  {
   "cell_type": "code",
   "execution_count": 22,
   "metadata": {},
   "outputs": [
    {
     "data": {
      "text/html": [
       "<div>\n",
       "<style scoped>\n",
       "    .dataframe tbody tr th:only-of-type {\n",
       "        vertical-align: middle;\n",
       "    }\n",
       "\n",
       "    .dataframe tbody tr th {\n",
       "        vertical-align: top;\n",
       "    }\n",
       "\n",
       "    .dataframe thead th {\n",
       "        text-align: right;\n",
       "    }\n",
       "</style>\n",
       "<table border=\"1\" class=\"dataframe\">\n",
       "  <thead>\n",
       "    <tr style=\"text-align: right;\">\n",
       "      <th></th>\n",
       "      <th>date</th>\n",
       "      <th>Heart Rate</th>\n",
       "      <th>Resting Heart Rate</th>\n",
       "      <th>Walking Heart Rate Average</th>\n",
       "    </tr>\n",
       "  </thead>\n",
       "  <tbody>\n",
       "    <tr>\n",
       "      <th>1060</th>\n",
       "      <td>2021-03-17</td>\n",
       "      <td>93.30</td>\n",
       "      <td>57.0</td>\n",
       "      <td>102.0</td>\n",
       "    </tr>\n",
       "    <tr>\n",
       "      <th>1061</th>\n",
       "      <td>2021-03-18</td>\n",
       "      <td>107.98</td>\n",
       "      <td>61.0</td>\n",
       "      <td>114.0</td>\n",
       "    </tr>\n",
       "    <tr>\n",
       "      <th>1062</th>\n",
       "      <td>2021-03-19</td>\n",
       "      <td>94.73</td>\n",
       "      <td>58.0</td>\n",
       "      <td>104.0</td>\n",
       "    </tr>\n",
       "    <tr>\n",
       "      <th>1063</th>\n",
       "      <td>2021-03-20</td>\n",
       "      <td>100.96</td>\n",
       "      <td>55.0</td>\n",
       "      <td>110.0</td>\n",
       "    </tr>\n",
       "    <tr>\n",
       "      <th>1064</th>\n",
       "      <td>2021-03-21</td>\n",
       "      <td>94.05</td>\n",
       "      <td>56.0</td>\n",
       "      <td>100.0</td>\n",
       "    </tr>\n",
       "    <tr>\n",
       "      <th>1065</th>\n",
       "      <td>2021-03-22</td>\n",
       "      <td>86.43</td>\n",
       "      <td>56.0</td>\n",
       "      <td>97.0</td>\n",
       "    </tr>\n",
       "    <tr>\n",
       "      <th>1066</th>\n",
       "      <td>2021-03-23</td>\n",
       "      <td>84.98</td>\n",
       "      <td>55.0</td>\n",
       "      <td>99.0</td>\n",
       "    </tr>\n",
       "    <tr>\n",
       "      <th>1067</th>\n",
       "      <td>2021-03-24</td>\n",
       "      <td>92.87</td>\n",
       "      <td>56.0</td>\n",
       "      <td>100.5</td>\n",
       "    </tr>\n",
       "    <tr>\n",
       "      <th>1068</th>\n",
       "      <td>2021-03-25</td>\n",
       "      <td>90.93</td>\n",
       "      <td>57.0</td>\n",
       "      <td>111.0</td>\n",
       "    </tr>\n",
       "    <tr>\n",
       "      <th>1069</th>\n",
       "      <td>2021-03-26</td>\n",
       "      <td>100.67</td>\n",
       "      <td>NaN</td>\n",
       "      <td>NaN</td>\n",
       "    </tr>\n",
       "  </tbody>\n",
       "</table>\n",
       "</div>"
      ],
      "text/plain": [
       "            date  Heart Rate  Resting Heart Rate  Walking Heart Rate Average\n",
       "1060  2021-03-17       93.30                57.0                       102.0\n",
       "1061  2021-03-18      107.98                61.0                       114.0\n",
       "1062  2021-03-19       94.73                58.0                       104.0\n",
       "1063  2021-03-20      100.96                55.0                       110.0\n",
       "1064  2021-03-21       94.05                56.0                       100.0\n",
       "1065  2021-03-22       86.43                56.0                        97.0\n",
       "1066  2021-03-23       84.98                55.0                        99.0\n",
       "1067  2021-03-24       92.87                56.0                       100.5\n",
       "1068  2021-03-25       90.93                57.0                       111.0\n",
       "1069  2021-03-26      100.67                 NaN                         NaN"
      ]
     },
     "execution_count": 22,
     "metadata": {},
     "output_type": "execute_result"
    }
   ],
   "source": [
    "heart.tail(10)"
   ]
  },
  {
   "cell_type": "code",
   "execution_count": 23,
   "metadata": {},
   "outputs": [],
   "source": [
    "heart = heart.loc[231:]"
   ]
  },
  {
   "cell_type": "code",
   "execution_count": 24,
   "metadata": {
    "scrolled": true
   },
   "outputs": [
    {
     "data": {
      "text/html": [
       "<div>\n",
       "<style scoped>\n",
       "    .dataframe tbody tr th:only-of-type {\n",
       "        vertical-align: middle;\n",
       "    }\n",
       "\n",
       "    .dataframe tbody tr th {\n",
       "        vertical-align: top;\n",
       "    }\n",
       "\n",
       "    .dataframe thead th {\n",
       "        text-align: right;\n",
       "    }\n",
       "</style>\n",
       "<table border=\"1\" class=\"dataframe\">\n",
       "  <thead>\n",
       "    <tr style=\"text-align: right;\">\n",
       "      <th></th>\n",
       "      <th>date</th>\n",
       "      <th>Heart Rate</th>\n",
       "      <th>Resting Heart Rate</th>\n",
       "      <th>Walking Heart Rate Average</th>\n",
       "    </tr>\n",
       "  </thead>\n",
       "  <tbody>\n",
       "    <tr>\n",
       "      <th>231</th>\n",
       "      <td>2018-12-09</td>\n",
       "      <td>70.18</td>\n",
       "      <td>NaN</td>\n",
       "      <td>105.0</td>\n",
       "    </tr>\n",
       "    <tr>\n",
       "      <th>232</th>\n",
       "      <td>2018-12-10</td>\n",
       "      <td>75.69</td>\n",
       "      <td>62.0</td>\n",
       "      <td>87.0</td>\n",
       "    </tr>\n",
       "    <tr>\n",
       "      <th>233</th>\n",
       "      <td>2018-12-11</td>\n",
       "      <td>64.61</td>\n",
       "      <td>56.0</td>\n",
       "      <td>NaN</td>\n",
       "    </tr>\n",
       "    <tr>\n",
       "      <th>234</th>\n",
       "      <td>2018-12-12</td>\n",
       "      <td>70.25</td>\n",
       "      <td>55.0</td>\n",
       "      <td>100.0</td>\n",
       "    </tr>\n",
       "    <tr>\n",
       "      <th>235</th>\n",
       "      <td>2018-12-13</td>\n",
       "      <td>71.69</td>\n",
       "      <td>58.0</td>\n",
       "      <td>109.0</td>\n",
       "    </tr>\n",
       "    <tr>\n",
       "      <th>236</th>\n",
       "      <td>2018-12-14</td>\n",
       "      <td>79.13</td>\n",
       "      <td>59.0</td>\n",
       "      <td>NaN</td>\n",
       "    </tr>\n",
       "    <tr>\n",
       "      <th>237</th>\n",
       "      <td>2018-12-15</td>\n",
       "      <td>83.15</td>\n",
       "      <td>60.0</td>\n",
       "      <td>110.5</td>\n",
       "    </tr>\n",
       "    <tr>\n",
       "      <th>238</th>\n",
       "      <td>2018-12-16</td>\n",
       "      <td>108.22</td>\n",
       "      <td>72.0</td>\n",
       "      <td>NaN</td>\n",
       "    </tr>\n",
       "    <tr>\n",
       "      <th>239</th>\n",
       "      <td>2018-12-17</td>\n",
       "      <td>71.67</td>\n",
       "      <td>61.0</td>\n",
       "      <td>NaN</td>\n",
       "    </tr>\n",
       "    <tr>\n",
       "      <th>240</th>\n",
       "      <td>2018-12-18</td>\n",
       "      <td>69.96</td>\n",
       "      <td>58.0</td>\n",
       "      <td>112.0</td>\n",
       "    </tr>\n",
       "  </tbody>\n",
       "</table>\n",
       "</div>"
      ],
      "text/plain": [
       "           date  Heart Rate  Resting Heart Rate  Walking Heart Rate Average\n",
       "231  2018-12-09       70.18                 NaN                       105.0\n",
       "232  2018-12-10       75.69                62.0                        87.0\n",
       "233  2018-12-11       64.61                56.0                         NaN\n",
       "234  2018-12-12       70.25                55.0                       100.0\n",
       "235  2018-12-13       71.69                58.0                       109.0\n",
       "236  2018-12-14       79.13                59.0                         NaN\n",
       "237  2018-12-15       83.15                60.0                       110.5\n",
       "238  2018-12-16      108.22                72.0                         NaN\n",
       "239  2018-12-17       71.67                61.0                         NaN\n",
       "240  2018-12-18       69.96                58.0                       112.0"
      ]
     },
     "execution_count": 24,
     "metadata": {},
     "output_type": "execute_result"
    }
   ],
   "source": [
    "heart.head(10)"
   ]
  },
  {
   "cell_type": "code",
   "execution_count": 25,
   "metadata": {},
   "outputs": [],
   "source": [
    "heart=heart.reset_index(drop=True)"
   ]
  },
  {
   "cell_type": "code",
   "execution_count": 26,
   "metadata": {},
   "outputs": [
    {
     "data": {
      "text/plain": [
       "date                            0\n",
       "Heart Rate                      0\n",
       "Resting Heart Rate             75\n",
       "Walking Heart Rate Average    215\n",
       "dtype: int64"
      ]
     },
     "execution_count": 26,
     "metadata": {},
     "output_type": "execute_result"
    }
   ],
   "source": [
    "heart.isnull().sum()"
   ]
  },
  {
   "cell_type": "code",
   "execution_count": 27,
   "metadata": {},
   "outputs": [
    {
     "data": {
      "text/plain": [
       "(839, 4)"
      ]
     },
     "execution_count": 27,
     "metadata": {},
     "output_type": "execute_result"
    }
   ],
   "source": [
    "heart.shape"
   ]
  },
  {
   "cell_type": "code",
   "execution_count": 28,
   "metadata": {},
   "outputs": [],
   "source": [
    "rest_rate = heart.drop(['Heart Rate', 'Walking Heart Rate Average'], axis=1)"
   ]
  },
  {
   "cell_type": "code",
   "execution_count": 29,
   "metadata": {},
   "outputs": [],
   "source": [
    "rest_rate = rest_rate.fillna(method = 'bfill')"
   ]
  },
  {
   "cell_type": "code",
   "execution_count": 30,
   "metadata": {},
   "outputs": [
    {
     "data": {
      "text/html": [
       "<div>\n",
       "<style scoped>\n",
       "    .dataframe tbody tr th:only-of-type {\n",
       "        vertical-align: middle;\n",
       "    }\n",
       "\n",
       "    .dataframe tbody tr th {\n",
       "        vertical-align: top;\n",
       "    }\n",
       "\n",
       "    .dataframe thead th {\n",
       "        text-align: right;\n",
       "    }\n",
       "</style>\n",
       "<table border=\"1\" class=\"dataframe\">\n",
       "  <thead>\n",
       "    <tr style=\"text-align: right;\">\n",
       "      <th></th>\n",
       "      <th>date</th>\n",
       "      <th>Resting Heart Rate</th>\n",
       "    </tr>\n",
       "  </thead>\n",
       "  <tbody>\n",
       "    <tr>\n",
       "      <th>0</th>\n",
       "      <td>2018-12-09</td>\n",
       "      <td>62.0</td>\n",
       "    </tr>\n",
       "    <tr>\n",
       "      <th>1</th>\n",
       "      <td>2018-12-10</td>\n",
       "      <td>62.0</td>\n",
       "    </tr>\n",
       "    <tr>\n",
       "      <th>2</th>\n",
       "      <td>2018-12-11</td>\n",
       "      <td>56.0</td>\n",
       "    </tr>\n",
       "    <tr>\n",
       "      <th>3</th>\n",
       "      <td>2018-12-12</td>\n",
       "      <td>55.0</td>\n",
       "    </tr>\n",
       "    <tr>\n",
       "      <th>4</th>\n",
       "      <td>2018-12-13</td>\n",
       "      <td>58.0</td>\n",
       "    </tr>\n",
       "    <tr>\n",
       "      <th>5</th>\n",
       "      <td>2018-12-14</td>\n",
       "      <td>59.0</td>\n",
       "    </tr>\n",
       "    <tr>\n",
       "      <th>6</th>\n",
       "      <td>2018-12-15</td>\n",
       "      <td>60.0</td>\n",
       "    </tr>\n",
       "    <tr>\n",
       "      <th>7</th>\n",
       "      <td>2018-12-16</td>\n",
       "      <td>72.0</td>\n",
       "    </tr>\n",
       "    <tr>\n",
       "      <th>8</th>\n",
       "      <td>2018-12-17</td>\n",
       "      <td>61.0</td>\n",
       "    </tr>\n",
       "    <tr>\n",
       "      <th>9</th>\n",
       "      <td>2018-12-18</td>\n",
       "      <td>58.0</td>\n",
       "    </tr>\n",
       "  </tbody>\n",
       "</table>\n",
       "</div>"
      ],
      "text/plain": [
       "         date  Resting Heart Rate\n",
       "0  2018-12-09                62.0\n",
       "1  2018-12-10                62.0\n",
       "2  2018-12-11                56.0\n",
       "3  2018-12-12                55.0\n",
       "4  2018-12-13                58.0\n",
       "5  2018-12-14                59.0\n",
       "6  2018-12-15                60.0\n",
       "7  2018-12-16                72.0\n",
       "8  2018-12-17                61.0\n",
       "9  2018-12-18                58.0"
      ]
     },
     "execution_count": 30,
     "metadata": {},
     "output_type": "execute_result"
    }
   ],
   "source": [
    "rest_rate.head(10)"
   ]
  },
  {
   "cell_type": "code",
   "execution_count": 31,
   "metadata": {
    "scrolled": true
   },
   "outputs": [
    {
     "data": {
      "text/plain": [
       "<matplotlib.axes._subplots.AxesSubplot at 0x19fd30d98b0>"
      ]
     },
     "execution_count": 31,
     "metadata": {},
     "output_type": "execute_result"
    },
    {
     "data": {
      "image/png": "[encoded data removed]",
      "text/plain": [
       "<Figure size 1440x360 with 1 Axes>"
      ]
     },
     "metadata": {
      "needs_background": "light"
     },
     "output_type": "display_data"
    }
   ],
   "source": [
    "rest_rate.loc[650:].plot(x = 'date', y = 'Resting Heart Rate', \n",
    "               figsize = (20, 5), \n",
    "               title = 'Average resting heart rate', \n",
    "               grid = 'bool')"
   ]
  }
 ],
 "metadata": {
  "kernelspec": {
   "display_name": "Python 3",
   "language": "python",
   "name": "python3"
  },
  "language_info": {
   "codemirror_mode": {
    "name": "ipython",
    "version": 3
   },
   "file_extension": ".py",
   "mimetype": "text/x-python",
   "name": "python",
   "nbconvert_exporter": "python",
   "pygments_lexer": "ipython3",
   "version": "3.8.3"
  }
 },
 "nbformat": 4,
 "nbformat_minor": 4
}
